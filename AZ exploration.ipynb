{
 "cells": [
  {
   "cell_type": "code",
   "execution_count": 1,
   "metadata": {
    "collapsed": false,
    "deletable": true,
    "editable": true
   },
   "outputs": [],
   "source": [
    "import numpy as np\n",
    "import pandas as pd\n",
    "import datetime\n",
    "from dateutil.rrule import rrule, MONTHLY\n",
    "import matplotlib.pyplot as plt\n",
    "\n",
    "AZ_reviews = pd.read_csv('AZ_review.csv')"
   ]
  },
  {
   "cell_type": "code",
   "execution_count": 2,
   "metadata": {
    "collapsed": false,
    "deletable": true,
    "editable": true
   },
   "outputs": [
    {
     "name": "stdout",
     "output_type": "stream",
     "text": [
      "Index(['Unnamed: 0', 'business_id', 'name', 'cool', 'date', 'funny',\n",
      "       'review_id', 'stars', 'text', 'useful', 'user_id', 'categories',\n",
      "       'attributes'],\n",
      "      dtype='object')\n"
     ]
    },
    {
     "data": {
      "text/html": [
       "<div>\n",
       "<table border=\"1\" class=\"dataframe\">\n",
       "  <thead>\n",
       "    <tr style=\"text-align: right;\">\n",
       "      <th></th>\n",
       "      <th>Unnamed: 0</th>\n",
       "      <th>cool</th>\n",
       "      <th>funny</th>\n",
       "      <th>stars</th>\n",
       "      <th>useful</th>\n",
       "    </tr>\n",
       "  </thead>\n",
       "  <tbody>\n",
       "    <tr>\n",
       "      <th>count</th>\n",
       "      <td>1.877589e+06</td>\n",
       "      <td>1.877589e+06</td>\n",
       "      <td>1.877589e+06</td>\n",
       "      <td>1.877589e+06</td>\n",
       "      <td>1.877589e+06</td>\n",
       "    </tr>\n",
       "    <tr>\n",
       "      <th>mean</th>\n",
       "      <td>2.997879e+06</td>\n",
       "      <td>5.401640e-01</td>\n",
       "      <td>4.793834e-01</td>\n",
       "      <td>3.785140e+00</td>\n",
       "      <td>1.400640e+00</td>\n",
       "    </tr>\n",
       "    <tr>\n",
       "      <th>std</th>\n",
       "      <td>1.702537e+06</td>\n",
       "      <td>2.337093e+00</td>\n",
       "      <td>3.132605e+00</td>\n",
       "      <td>1.502391e+00</td>\n",
       "      <td>4.451211e+00</td>\n",
       "    </tr>\n",
       "    <tr>\n",
       "      <th>min</th>\n",
       "      <td>3.200000e+01</td>\n",
       "      <td>-1.000000e+00</td>\n",
       "      <td>0.000000e+00</td>\n",
       "      <td>1.000000e+00</td>\n",
       "      <td>-1.000000e+00</td>\n",
       "    </tr>\n",
       "    <tr>\n",
       "      <th>25%</th>\n",
       "      <td>1.492337e+06</td>\n",
       "      <td>0.000000e+00</td>\n",
       "      <td>0.000000e+00</td>\n",
       "      <td>3.000000e+00</td>\n",
       "      <td>0.000000e+00</td>\n",
       "    </tr>\n",
       "    <tr>\n",
       "      <th>50%</th>\n",
       "      <td>3.059081e+06</td>\n",
       "      <td>0.000000e+00</td>\n",
       "      <td>0.000000e+00</td>\n",
       "      <td>4.000000e+00</td>\n",
       "      <td>0.000000e+00</td>\n",
       "    </tr>\n",
       "    <tr>\n",
       "      <th>75%</th>\n",
       "      <td>4.456132e+06</td>\n",
       "      <td>0.000000e+00</td>\n",
       "      <td>0.000000e+00</td>\n",
       "      <td>5.000000e+00</td>\n",
       "      <td>2.000000e+00</td>\n",
       "    </tr>\n",
       "    <tr>\n",
       "      <th>max</th>\n",
       "      <td>5.995863e+06</td>\n",
       "      <td>5.050000e+02</td>\n",
       "      <td>9.910000e+02</td>\n",
       "      <td>5.000000e+00</td>\n",
       "      <td>1.234000e+03</td>\n",
       "    </tr>\n",
       "  </tbody>\n",
       "</table>\n",
       "</div>"
      ],
      "text/plain": [
       "         Unnamed: 0          cool         funny         stars        useful\n",
       "count  1.877589e+06  1.877589e+06  1.877589e+06  1.877589e+06  1.877589e+06\n",
       "mean   2.997879e+06  5.401640e-01  4.793834e-01  3.785140e+00  1.400640e+00\n",
       "std    1.702537e+06  2.337093e+00  3.132605e+00  1.502391e+00  4.451211e+00\n",
       "min    3.200000e+01 -1.000000e+00  0.000000e+00  1.000000e+00 -1.000000e+00\n",
       "25%    1.492337e+06  0.000000e+00  0.000000e+00  3.000000e+00  0.000000e+00\n",
       "50%    3.059081e+06  0.000000e+00  0.000000e+00  4.000000e+00  0.000000e+00\n",
       "75%    4.456132e+06  0.000000e+00  0.000000e+00  5.000000e+00  2.000000e+00\n",
       "max    5.995863e+06  5.050000e+02  9.910000e+02  5.000000e+00  1.234000e+03"
      ]
     },
     "execution_count": 2,
     "metadata": {},
     "output_type": "execute_result"
    }
   ],
   "source": [
    "print(AZ_reviews.columns)\n",
    "AZ_reviews.describe()"
   ]
  },
  {
   "cell_type": "code",
   "execution_count": 3,
   "metadata": {
    "collapsed": false,
    "deletable": true,
    "editable": true,
    "scrolled": true
   },
   "outputs": [
    {
     "data": {
      "text/plain": [
       "count                    1877589\n",
       "unique                     56495\n",
       "top       JmI9nslLD7KZqRr__Bg6NQ\n",
       "freq                        2390\n",
       "Name: business_id, dtype: object"
      ]
     },
     "execution_count": 3,
     "metadata": {},
     "output_type": "execute_result"
    }
   ],
   "source": [
    "AZ_reviews['business_id'].describe()"
   ]
  },
  {
   "cell_type": "code",
   "execution_count": 4,
   "metadata": {
    "collapsed": false,
    "deletable": true,
    "editable": true
   },
   "outputs": [
    {
     "name": "stderr",
     "output_type": "stream",
     "text": [
      "/share/apps/python3/3.5.3/intel/lib/python3.5/site-packages/ipykernel/__main__.py:3: FutureWarning: sort(columns=....) is deprecated, use sort_values(by=.....)\n",
      "  app.launch_new_instance()\n"
     ]
    },
    {
     "data": {
      "text/plain": [
       "345010    2006-06-25\n",
       "345156    2006-08-07\n",
       "344760    2006-08-13\n",
       "344537    2006-08-30\n",
       "344707    2006-09-03\n",
       "Name: date, dtype: object"
      ]
     },
     "execution_count": 4,
     "metadata": {},
     "output_type": "execute_result"
    }
   ],
   "source": [
    "top_biz = \"JmI9nslLD7KZqRr__Bg6NQ\"\n",
    "top_reviews = AZ_reviews[AZ_reviews['business_id'] == \"JmI9nslLD7KZqRr__Bg6NQ\"]\n",
    "top_reviews_sorted = top_reviews.sort(columns='date')\n",
    "top_reviews_sorted.head()['date']"
   ]
  },
  {
   "cell_type": "code",
   "execution_count": 5,
   "metadata": {
    "collapsed": false,
    "deletable": true,
    "editable": true
   },
   "outputs": [
    {
     "data": {
      "image/png": "[encoded data removed]",
      "text/plain": [
       "<matplotlib.figure.Figure at 0x2b93f88be400>"
      ]
     },
     "metadata": {},
     "output_type": "display_data"
    }
   ],
   "source": [
    "top_reviews_date = top_reviews.assign(datetime = pd.to_datetime(top_reviews_sorted['date'])).drop(labels=['date'], axis = 'columns')\n",
    "\n",
    "\n",
    "top_reviews_reindexed = top_reviews_date.set_index('datetime').sort_index()\n",
    "top_reviews_reindexed.index = top_reviews_reindexed.index.map(lambda t: t.replace(day=1))\n",
    "\n",
    "min_date = pd.Timestamp(top_reviews_reindexed.index.min())\n",
    "max_date = pd.Timestamp(top_reviews_reindexed.index.max())\n",
    "dates = [dt for dt in rrule(MONTHLY, dtstart=min_date, until=max_date)]\n",
    "date_frame = pd.DataFrame(dates, columns = ['datetime']).set_index('datetime')\n",
    "\n",
    "all_dates = date_frame.join(top_reviews_reindexed)\n",
    "\n",
    "\n",
    "groupbymonth = all_dates.groupby([all_dates.index.year, all_dates.index.month])\n",
    "\n",
    "groupbymonth['business_id'].count().plot()\n",
    "plt.show()\n",
    "\n"
   ]
  },
  {
   "cell_type": "code",
   "execution_count": 33,
   "metadata": {
    "collapsed": false,
    "deletable": true,
    "editable": true
   },
   "outputs": [],
   "source": [
    "def hwr(x):\n",
    "    return (x+np.abs(x))/2\n",
    "\n",
    "def plot_by_month(df, business_id = None, label = None, plottype = 'count', compare_mean = False):\n",
    "    reviews_sorted = df.sort(columns='date')\n",
    "    reviews_datetime = reviews_sorted.assign(datetime = pd.to_datetime(reviews_sorted['date'])).drop(labels=['date'], axis = 'columns')\n",
    "    reviews_reindexed = reviews_datetime.set_index('datetime').sort_index()\n",
    "    reviews_reindexed.index = reviews_reindexed.index.map(lambda t: t.replace(day=1))\n",
    "    \n",
    "    if business_id != None:\n",
    "        reviews = reviews_reindexed[reviews_reindexed['business_id'] == business_id]\n",
    "        title = reviews.loc[reviews.index[0]]['name']\n",
    "    else:\n",
    "        reviews = reviews_reindexed\n",
    "        title = 'All Businesses'\n",
    "    \n",
    "    if label == None:\n",
    "        label = 'business_id'\n",
    "        title += ' - review ' + plottype\n",
    "    else: \n",
    "        title += ' - ' + label + ' ' + plottype\n",
    "    \n",
    "    min_date = pd.Timestamp(reviews.index.min())\n",
    "    max_date = pd.Timestamp(reviews.index.max())\n",
    "    dates = [dt for dt in rrule(MONTHLY, dtstart=min_date, until=max_date)]\n",
    "    date_frame = pd.DataFrame(dates, columns = ['datetime']).set_index('datetime')\n",
    "    \n",
    "    all_dates = date_frame.join(reviews)\n",
    "    group_by_month = all_dates.groupby([all_dates.index.year, all_dates.index.month])\n",
    "    \n",
    "    if compare_mean == True:\n",
    "        all_reviews = reviews_reindexed\n",
    "        all_reviews_dates = date_frame.join(all_reviews)\n",
    "        all_group_by_month  = all_reviews_dates.groupby([all_reviews_dates.index.year, all_reviews_dates.index.month])\n",
    "        all_group_by_unique = all_group_by_month['business_id'].unique().apply(len)\n",
    "        avg_group_by_month = all_group_by_month/all_group_by_unique\n",
    "\n",
    "    if plottype == 'cumsum':\n",
    "        np.cumsum(group_by_month[label].count()).plot(label = plottype)\n",
    "    elif plottype == 'diff':\n",
    "        diff = (np.diff(group_by_month[label].count()))\n",
    "        plt.plot(date_frame.index[:-1], diff, label = plottype)\n",
    "    elif plottype == 'pos_diff':\n",
    "        diff = hwr(np.diff(group_by_month[label].count()))\n",
    "        plt.plot(date_frame.index[:-1], diff, label = plottype)\n",
    "    elif plottype == 'count':\n",
    "        group_by_month[label].count().plot(label = plottype)    \n",
    "        \n",
    "    if compare_mean == True:\n",
    "        if plottype == 'cumsum':\n",
    "            np.cumsum(avg_group_by_month[label].count()).plot(label = plottype)\n",
    "        elif plottype == 'diff':\n",
    "            diff = (np.diff(avg_group_by_month[label].count()))\n",
    "            plt.plot(date_frame.index[:-1], diff, label = plottype)\n",
    "        elif plottype == 'pos_diff':\n",
    "            diff = hwr(np.diff(avg_group_by_month[label].count()))\n",
    "            plt.plot(date_frame.index[:-1], diff, label = plottype)\n",
    "        elif plottype == 'count':\n",
    "            avg_group_by_month[label].count().plot(label = plottype) \n",
    "\n",
    "        \n",
    "        \n",
    "    plt.title(title)\n",
    "    plt.legend()\n",
    "    plt.show()\n",
    "    return group_by_month\n",
    "    "
   ]
  },
  {
   "cell_type": "code",
   "execution_count": 34,
   "metadata": {
    "collapsed": false,
    "deletable": true,
    "editable": true
   },
   "outputs": [
    {
     "name": "stderr",
     "output_type": "stream",
     "text": [
      "/share/apps/python3/3.5.3/intel/lib/python3.5/site-packages/ipykernel/__main__.py:5: FutureWarning: sort(columns=....) is deprecated, use sort_values(by=.....)\n"
     ]
    },
    {
     "ename": "ValueError",
     "evalue": "operands could not be broadcast together with shapes (146,2) (146,) ",
     "output_type": "error",
     "traceback": [
      "\u001b[0;31m---------------------------------------------------------------------------\u001b[0m",
      "\u001b[0;31mValueError\u001b[0m                                Traceback (most recent call last)",
      "\u001b[0;32m<ipython-input-34-bb91f709a025>\u001b[0m in \u001b[0;36m<module>\u001b[0;34m()\u001b[0m\n\u001b[1;32m      3\u001b[0m \u001b[0;32mfor\u001b[0m \u001b[0mbusiness_id\u001b[0m\u001b[0;34m,\u001b[0m \u001b[0msize\u001b[0m \u001b[0;32min\u001b[0m \u001b[0;34m(\u001b[0m\u001b[0msorted_groups\u001b[0m\u001b[0;34m.\u001b[0m\u001b[0mitems\u001b[0m\u001b[0;34m(\u001b[0m\u001b[0;34m)\u001b[0m\u001b[0;34m)\u001b[0m\u001b[0;34m:\u001b[0m\u001b[0;34m\u001b[0m\u001b[0m\n\u001b[1;32m      4\u001b[0m     \u001b[0;32mif\u001b[0m \u001b[0msize\u001b[0m\u001b[0;34m>\u001b[0m\u001b[0;36m1000\u001b[0m\u001b[0;34m:\u001b[0m\u001b[0;34m\u001b[0m\u001b[0m\n\u001b[0;32m----> 5\u001b[0;31m         \u001b[0mplot_by_month\u001b[0m\u001b[0;34m(\u001b[0m\u001b[0mAZ_reviews\u001b[0m\u001b[0;34m,\u001b[0m \u001b[0mbusiness_id\u001b[0m \u001b[0;34m=\u001b[0m \u001b[0mbusiness_id\u001b[0m\u001b[0;34m,\u001b[0m \u001b[0mplottype\u001b[0m \u001b[0;34m=\u001b[0m \u001b[0;34m'pos_diff'\u001b[0m\u001b[0;34m,\u001b[0m \u001b[0mcompare_mean\u001b[0m\u001b[0;34m=\u001b[0m\u001b[0;32mTrue\u001b[0m\u001b[0;34m)\u001b[0m\u001b[0;34m\u001b[0m\u001b[0m\n\u001b[0m",
      "\u001b[0;32m<ipython-input-33-d2c1858bbad3>\u001b[0m in \u001b[0;36mplot_by_month\u001b[0;34m(df, business_id, label, plottype, compare_mean)\u001b[0m\n\u001b[1;32m     34\u001b[0m         \u001b[0mall_group_by_month\u001b[0m  \u001b[0;34m=\u001b[0m \u001b[0mall_reviews_dates\u001b[0m\u001b[0;34m.\u001b[0m\u001b[0mgroupby\u001b[0m\u001b[0;34m(\u001b[0m\u001b[0;34m[\u001b[0m\u001b[0mall_reviews_dates\u001b[0m\u001b[0;34m.\u001b[0m\u001b[0mindex\u001b[0m\u001b[0;34m.\u001b[0m\u001b[0myear\u001b[0m\u001b[0;34m,\u001b[0m \u001b[0mall_reviews_dates\u001b[0m\u001b[0;34m.\u001b[0m\u001b[0mindex\u001b[0m\u001b[0;34m.\u001b[0m\u001b[0mmonth\u001b[0m\u001b[0;34m]\u001b[0m\u001b[0;34m)\u001b[0m\u001b[0;34m\u001b[0m\u001b[0m\n\u001b[1;32m     35\u001b[0m         \u001b[0mall_group_by_unique\u001b[0m \u001b[0;34m=\u001b[0m \u001b[0mall_group_by_month\u001b[0m\u001b[0;34m[\u001b[0m\u001b[0;34m'business_id'\u001b[0m\u001b[0;34m]\u001b[0m\u001b[0;34m.\u001b[0m\u001b[0munique\u001b[0m\u001b[0;34m(\u001b[0m\u001b[0;34m)\u001b[0m\u001b[0;34m.\u001b[0m\u001b[0mapply\u001b[0m\u001b[0;34m(\u001b[0m\u001b[0mlen\u001b[0m\u001b[0;34m)\u001b[0m\u001b[0;34m\u001b[0m\u001b[0m\n\u001b[0;32m---> 36\u001b[0;31m         \u001b[0mavg_group_by_month\u001b[0m \u001b[0;34m=\u001b[0m \u001b[0mall_group_by_month\u001b[0m\u001b[0;34m/\u001b[0m\u001b[0mall_group_by_unique\u001b[0m\u001b[0;34m\u001b[0m\u001b[0m\n\u001b[0m\u001b[1;32m     37\u001b[0m \u001b[0;34m\u001b[0m\u001b[0m\n\u001b[1;32m     38\u001b[0m     \u001b[0;32mif\u001b[0m \u001b[0mplottype\u001b[0m \u001b[0;34m==\u001b[0m \u001b[0;34m'cumsum'\u001b[0m\u001b[0;34m:\u001b[0m\u001b[0;34m\u001b[0m\u001b[0m\n",
      "\u001b[0;32m/share/apps/python3/3.5.3/intel/lib/python3.5/site-packages/pandas-0.19.2-py3.5-linux-x86_64.egg/pandas/core/ops.py\u001b[0m in \u001b[0;36mwrapper\u001b[0;34m(left, right, name, na_op)\u001b[0m\n\u001b[1;32m    713\u001b[0m                 \u001b[0mlvalues\u001b[0m \u001b[0;34m=\u001b[0m \u001b[0mlvalues\u001b[0m\u001b[0;34m.\u001b[0m\u001b[0mvalues\u001b[0m\u001b[0;34m\u001b[0m\u001b[0m\n\u001b[1;32m    714\u001b[0m \u001b[0;34m\u001b[0m\u001b[0m\n\u001b[0;32m--> 715\u001b[0;31m         \u001b[0mresult\u001b[0m \u001b[0;34m=\u001b[0m \u001b[0mwrap_results\u001b[0m\u001b[0;34m(\u001b[0m\u001b[0msafe_na_op\u001b[0m\u001b[0;34m(\u001b[0m\u001b[0mlvalues\u001b[0m\u001b[0;34m,\u001b[0m \u001b[0mrvalues\u001b[0m\u001b[0;34m)\u001b[0m\u001b[0;34m)\u001b[0m\u001b[0;34m\u001b[0m\u001b[0m\n\u001b[0m\u001b[1;32m    716\u001b[0m         return construct_result(\n\u001b[1;32m    717\u001b[0m             \u001b[0mleft\u001b[0m\u001b[0;34m,\u001b[0m\u001b[0;34m\u001b[0m\u001b[0m\n",
      "\u001b[0;32m/share/apps/python3/3.5.3/intel/lib/python3.5/site-packages/pandas-0.19.2-py3.5-linux-x86_64.egg/pandas/core/ops.py\u001b[0m in \u001b[0;36msafe_na_op\u001b[0;34m(lvalues, rvalues)\u001b[0m\n\u001b[1;32m    674\u001b[0m         \u001b[0;32mtry\u001b[0m\u001b[0;34m:\u001b[0m\u001b[0;34m\u001b[0m\u001b[0m\n\u001b[1;32m    675\u001b[0m             \u001b[0;32mwith\u001b[0m \u001b[0mnp\u001b[0m\u001b[0;34m.\u001b[0m\u001b[0merrstate\u001b[0m\u001b[0;34m(\u001b[0m\u001b[0mall\u001b[0m\u001b[0;34m=\u001b[0m\u001b[0;34m'ignore'\u001b[0m\u001b[0;34m)\u001b[0m\u001b[0;34m:\u001b[0m\u001b[0;34m\u001b[0m\u001b[0m\n\u001b[0;32m--> 676\u001b[0;31m                 \u001b[0;32mreturn\u001b[0m \u001b[0mna_op\u001b[0m\u001b[0;34m(\u001b[0m\u001b[0mlvalues\u001b[0m\u001b[0;34m,\u001b[0m \u001b[0mrvalues\u001b[0m\u001b[0;34m)\u001b[0m\u001b[0;34m\u001b[0m\u001b[0m\n\u001b[0m\u001b[1;32m    677\u001b[0m         \u001b[0;32mexcept\u001b[0m \u001b[0mException\u001b[0m\u001b[0;34m:\u001b[0m\u001b[0;34m\u001b[0m\u001b[0m\n\u001b[1;32m    678\u001b[0m             \u001b[0;32mif\u001b[0m \u001b[0misinstance\u001b[0m\u001b[0;34m(\u001b[0m\u001b[0mrvalues\u001b[0m\u001b[0;34m,\u001b[0m \u001b[0mABCSeries\u001b[0m\u001b[0;34m)\u001b[0m\u001b[0;34m:\u001b[0m\u001b[0;34m\u001b[0m\u001b[0m\n",
      "\u001b[0;32m/share/apps/python3/3.5.3/intel/lib/python3.5/site-packages/pandas-0.19.2-py3.5-linux-x86_64.egg/pandas/core/ops.py\u001b[0m in \u001b[0;36mna_op\u001b[0;34m(x, y)\u001b[0m\n\u001b[1;32m    650\u001b[0m         \u001b[0;32mtry\u001b[0m\u001b[0;34m:\u001b[0m\u001b[0;34m\u001b[0m\u001b[0m\n\u001b[1;32m    651\u001b[0m             result = expressions.evaluate(op, str_rep, x, y,\n\u001b[0;32m--> 652\u001b[0;31m                                           raise_on_error=True, **eval_kwargs)\n\u001b[0m\u001b[1;32m    653\u001b[0m         \u001b[0;32mexcept\u001b[0m \u001b[0mTypeError\u001b[0m\u001b[0;34m:\u001b[0m\u001b[0;34m\u001b[0m\u001b[0m\n\u001b[1;32m    654\u001b[0m             \u001b[0;32mif\u001b[0m \u001b[0misinstance\u001b[0m\u001b[0;34m(\u001b[0m\u001b[0my\u001b[0m\u001b[0;34m,\u001b[0m \u001b[0;34m(\u001b[0m\u001b[0mnp\u001b[0m\u001b[0;34m.\u001b[0m\u001b[0mndarray\u001b[0m\u001b[0;34m,\u001b[0m \u001b[0mABCSeries\u001b[0m\u001b[0;34m,\u001b[0m \u001b[0mpd\u001b[0m\u001b[0;34m.\u001b[0m\u001b[0mIndex\u001b[0m\u001b[0;34m)\u001b[0m\u001b[0;34m)\u001b[0m\u001b[0;34m:\u001b[0m\u001b[0;34m\u001b[0m\u001b[0m\n",
      "\u001b[0;32m/share/apps/python3/3.5.3/intel/lib/python3.5/site-packages/pandas-0.19.2-py3.5-linux-x86_64.egg/pandas/computation/expressions.py\u001b[0m in \u001b[0;36mevaluate\u001b[0;34m(op, op_str, a, b, raise_on_error, use_numexpr, **eval_kwargs)\u001b[0m\n\u001b[1;32m    208\u001b[0m     \u001b[0;32mif\u001b[0m \u001b[0muse_numexpr\u001b[0m\u001b[0;34m:\u001b[0m\u001b[0;34m\u001b[0m\u001b[0m\n\u001b[1;32m    209\u001b[0m         return _evaluate(op, op_str, a, b, raise_on_error=raise_on_error,\n\u001b[0;32m--> 210\u001b[0;31m                          **eval_kwargs)\n\u001b[0m\u001b[1;32m    211\u001b[0m     \u001b[0;32mreturn\u001b[0m \u001b[0m_evaluate_standard\u001b[0m\u001b[0;34m(\u001b[0m\u001b[0mop\u001b[0m\u001b[0;34m,\u001b[0m \u001b[0mop_str\u001b[0m\u001b[0;34m,\u001b[0m \u001b[0ma\u001b[0m\u001b[0;34m,\u001b[0m \u001b[0mb\u001b[0m\u001b[0;34m,\u001b[0m \u001b[0mraise_on_error\u001b[0m\u001b[0;34m=\u001b[0m\u001b[0mraise_on_error\u001b[0m\u001b[0;34m)\u001b[0m\u001b[0;34m\u001b[0m\u001b[0m\n\u001b[1;32m    212\u001b[0m \u001b[0;34m\u001b[0m\u001b[0m\n",
      "\u001b[0;32m/share/apps/python3/3.5.3/intel/lib/python3.5/site-packages/pandas-0.19.2-py3.5-linux-x86_64.egg/pandas/computation/expressions.py\u001b[0m in \u001b[0;36m_evaluate_standard\u001b[0;34m(op, op_str, a, b, raise_on_error, **eval_kwargs)\u001b[0m\n\u001b[1;32m     61\u001b[0m         \u001b[0m_store_test_result\u001b[0m\u001b[0;34m(\u001b[0m\u001b[0;32mFalse\u001b[0m\u001b[0;34m)\u001b[0m\u001b[0;34m\u001b[0m\u001b[0m\n\u001b[1;32m     62\u001b[0m     \u001b[0;32mwith\u001b[0m \u001b[0mnp\u001b[0m\u001b[0;34m.\u001b[0m\u001b[0merrstate\u001b[0m\u001b[0;34m(\u001b[0m\u001b[0mall\u001b[0m\u001b[0;34m=\u001b[0m\u001b[0;34m'ignore'\u001b[0m\u001b[0;34m)\u001b[0m\u001b[0;34m:\u001b[0m\u001b[0;34m\u001b[0m\u001b[0m\n\u001b[0;32m---> 63\u001b[0;31m         \u001b[0;32mreturn\u001b[0m \u001b[0mop\u001b[0m\u001b[0;34m(\u001b[0m\u001b[0ma\u001b[0m\u001b[0;34m,\u001b[0m \u001b[0mb\u001b[0m\u001b[0;34m)\u001b[0m\u001b[0;34m\u001b[0m\u001b[0m\n\u001b[0m\u001b[1;32m     64\u001b[0m \u001b[0;34m\u001b[0m\u001b[0m\n\u001b[1;32m     65\u001b[0m \u001b[0;34m\u001b[0m\u001b[0m\n",
      "\u001b[0;32m/share/apps/python3/3.5.3/intel/lib/python3.5/site-packages/pandas-0.19.2-py3.5-linux-x86_64.egg/pandas/core/ops.py\u001b[0m in \u001b[0;36m<lambda>\u001b[0;34m(x, y)\u001b[0m\n\u001b[1;32m     91\u001b[0m         rsub=arith_method(lambda x, y: y - x, names('rsub'), op('-'),\n\u001b[1;32m     92\u001b[0m                           default_axis=default_axis, reversed=True),\n\u001b[0;32m---> 93\u001b[0;31m         rtruediv=arith_method(lambda x, y: operator.truediv(y, x),\n\u001b[0m\u001b[1;32m     94\u001b[0m                               \u001b[0mnames\u001b[0m\u001b[0;34m(\u001b[0m\u001b[0;34m'rtruediv'\u001b[0m\u001b[0;34m)\u001b[0m\u001b[0;34m,\u001b[0m \u001b[0mop\u001b[0m\u001b[0;34m(\u001b[0m\u001b[0;34m'/'\u001b[0m\u001b[0;34m)\u001b[0m\u001b[0;34m,\u001b[0m \u001b[0mtruediv\u001b[0m\u001b[0;34m=\u001b[0m\u001b[0;32mTrue\u001b[0m\u001b[0;34m,\u001b[0m\u001b[0;34m\u001b[0m\u001b[0m\n\u001b[1;32m     95\u001b[0m                               \u001b[0mfill_zeros\u001b[0m\u001b[0;34m=\u001b[0m\u001b[0mnp\u001b[0m\u001b[0;34m.\u001b[0m\u001b[0minf\u001b[0m\u001b[0;34m,\u001b[0m \u001b[0mdefault_axis\u001b[0m\u001b[0;34m=\u001b[0m\u001b[0mdefault_axis\u001b[0m\u001b[0;34m,\u001b[0m\u001b[0;34m\u001b[0m\u001b[0m\n",
      "\u001b[0;31mValueError\u001b[0m: operands could not be broadcast together with shapes (146,2) (146,) "
     ]
    }
   ],
   "source": [
    "business_groups = AZ_reviews.groupby('business_id')\n",
    "sorted_groups = business_groups.size().sort_values(ascending=False)\n",
    "for business_id, size in (sorted_groups.items()):\n",
    "    if size>1000:\n",
    "        plot_by_month(AZ_reviews, business_id = business_id, plottype = 'pos_diff', compare_mean=True)"
   ]
  },
  {
   "cell_type": "code",
   "execution_count": 8,
   "metadata": {
    "collapsed": false,
    "deletable": true,
    "editable": true
   },
   "outputs": [
    {
     "name": "stderr",
     "output_type": "stream",
     "text": [
      "/share/apps/python3/3.5.3/intel/lib/python3.5/site-packages/ipykernel/__main__.py:18: FutureWarning: sort(columns=....) is deprecated, use sort_values(by=.....)\n"
     ]
    },
    {
     "data": {
      "image/png": "[encoded data removed]",
      "text/plain": [
       "<matplotlib.figure.Figure at 0x2b93f92fa6d8>"
      ]
     },
     "metadata": {},
     "output_type": "display_data"
    }
   ],
   "source": [
    "all_reviews = plot_by_month(AZ_reviews)\n"
   ]
  },
  {
   "cell_type": "code",
   "execution_count": 24,
   "metadata": {
    "collapsed": false,
    "deletable": true,
    "editable": true
   },
   "outputs": [
    {
     "data": {
      "image/png": "[encoded data removed]",
      "text/plain": [
       "<matplotlib.figure.Figure at 0x2b9444f91e48>"
      ]
     },
     "metadata": {},
     "output_type": "display_data"
    }
   ],
   "source": [
    "all_reviews_count = all_reviews['business_id'].count()\n",
    "all_reviews_unique = all_reviews['business_id'].unique().apply(len)\n",
    "(all_reviews_count/all_reviews_unique).plot()\n",
    "plt.show()"
   ]
  },
  {
   "cell_type": "code",
   "execution_count": 14,
   "metadata": {
    "collapsed": false,
    "deletable": true,
    "editable": true
   },
   "outputs": [
    {
     "name": "stdout",
     "output_type": "stream",
     "text": [
      "0          False\n",
      "1          False\n",
      "2          False\n",
      "3          False\n",
      "4          False\n",
      "5          False\n",
      "6          False\n",
      "7          False\n",
      "8           True\n",
      "9           True\n",
      "10          True\n",
      "11          True\n",
      "12          True\n",
      "13          True\n",
      "14          True\n",
      "15          True\n",
      "16          True\n",
      "17          True\n",
      "18          True\n",
      "19          True\n",
      "20          True\n",
      "21          True\n",
      "22          True\n",
      "23          True\n",
      "24          True\n",
      "25          True\n",
      "26          True\n",
      "27          True\n",
      "28          True\n",
      "29          True\n",
      "           ...  \n",
      "1877559    False\n",
      "1877560    False\n",
      "1877561    False\n",
      "1877562    False\n",
      "1877563    False\n",
      "1877564    False\n",
      "1877565    False\n",
      "1877566    False\n",
      "1877567    False\n",
      "1877568    False\n",
      "1877569    False\n",
      "1877570    False\n",
      "1877571    False\n",
      "1877572    False\n",
      "1877573    False\n",
      "1877574    False\n",
      "1877575    False\n",
      "1877576    False\n",
      "1877577    False\n",
      "1877578    False\n",
      "1877579    False\n",
      "1877580    False\n",
      "1877581    False\n",
      "1877582    False\n",
      "1877583    False\n",
      "1877584    False\n",
      "1877585    False\n",
      "1877586    False\n",
      "1877587    False\n",
      "1877588    False\n",
      "Name: categories, dtype: object\n"
     ]
    }
   ],
   "source": [
    "cats = AZ_reviews['categories'].str.contains('Food')\n",
    "print(cats)"
   ]
  },
  {
   "cell_type": "code",
   "execution_count": null,
   "metadata": {
    "collapsed": true,
    "deletable": true,
    "editable": true
   },
   "outputs": [],
   "source": []
  }
 ],
 "metadata": {
  "kernelspec": {
   "display_name": "Python 3",
   "language": "python",
   "name": "python3"
  },
  "language_info": {
   "codemirror_mode": {
    "name": "ipython",
    "version": 3
   },
   "file_extension": ".py",
   "mimetype": "text/x-python",
   "name": "python",
   "nbconvert_exporter": "python",
   "pygments_lexer": "ipython3",
   "version": "3.5.3"
  }
 },
 "nbformat": 4,
 "nbformat_minor": 2
}
