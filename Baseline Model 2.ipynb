{
 "cells": [
  {
   "cell_type": "code",
   "execution_count": 1,
   "metadata": {
    "collapsed": true
   },
   "outputs": [],
   "source": [
    "import numpy as np\n",
    "import pandas as pd\n",
    "import datetime\n",
    "from dateutil.rrule import rrule, MONTHLY\n",
    "import matplotlib.pyplot as plt\n",
    "from collections import Counter, OrderedDict\n",
    "from IPython.display import clear_output, display\n",
    "import sklearn as skl\n",
    "%matplotlib inline\n",
    "pd.options.display.max_rows = 1000"
   ]
  },
  {
   "cell_type": "code",
   "execution_count": 2,
   "metadata": {
    "collapsed": true
   },
   "outputs": [],
   "source": [
    "#load ye olde data\n",
    "AZ_reviews = pd.read_csv('AZ_review.csv')"
   ]
  },
  {
   "cell_type": "code",
   "execution_count": 3,
   "metadata": {
    "collapsed": true
   },
   "outputs": [],
   "source": [
    "#load business data\n",
    "businesses = pd.read_json('dataset/yelp_academic_dataset_business.json', lines=True)"
   ]
  },
  {
   "cell_type": "code",
   "execution_count": 4,
   "metadata": {
    "collapsed": true
   },
   "outputs": [],
   "source": [
    "incl_list = ['Asian Fusion','Buffets','Caribbean','Chinese','Trinidadian','Vegetarian','Afghan','African','Arabian','Argentine','Armenian','Australian','Austrian','Bangladeshi','Basque','Bavarian','Brasseries','British','Bulgarian','Burmese','Cambodian','Cantonese','Chilean','Colombian','Cuban','Czech','Czech/Slovakian','Dominican','Donairs','Eastern European','Egyptian','Ethiopian','Falafel','Filipino','Greek','Hainan','Haitian','Hakka','Halal','Hawaiian','Honduran','Hot Pot','Iberian','Indonesian','International','Irish','Irish Pub','Izakaya','Japanese Curry','Kebab','Kosher','Laotian','Lebanese','Malaysian','Mauritius','Mediterranean','Modern European','Mongolian','Moroccan','New Mexican Cuisine','Noodles','Northern German','Pan Asian','Peruvian','Polish','Puerto Rican','Ramen','Russian','Salvadoran','Scandinavian','Scottish','Senegalese','Shanghainese','Sicilian','Singaporean','Slovakian','Soul Food','South African','Spanish','Sri Lankan','Swiss Food','Syrian','Szechuan','Teppanyaki','Traditional Norwegian','Turkish','Tuscan','Ukrainian','Uzbek','Venezuelan','Acai Bowls','American (New)','American (Traditional)','Bagels','Baguettes','Bakeries','Barbeque','Bars','Bartenders','Beach Bars','Beer','Beer Bar','Beer Garden','Beer Gardens','Beer Hall','Beer Tours','Belgian','Bistros','Brazilian','Breakfast & Brunch','Breweries','Brewpubs','Bubble Tea','Burgers','Butcher','Cafes','Cafeteria','Cajun/Creole','Canadian (New)','Candy Stores','Caterers','Champagne Bars','Cheese Shops','Cheesesteaks','Chicken Shop','Chicken Wings','Chocolatiers & Shops','Churros','Cideries','Cocktail Bars','Coffee & Tea','Coffee Roasteries','Coffeeshops','Comfort Food','Creperies','Cupcakes','Custom Cakes','Dance Clubs','Delicatessen','Delis','Desserts','Dim Sum','Diners','Distilleries','Dive Bars','Do-It-Yourself Food','Donuts','Drive-Thru Bars','Empanadas','Ethical Grocery','Ethnic Food','Ethnic Grocery','Fast Food','Fish & Chips','Fishmonger','Fondue','Food','Food Court','Food Stands','Food Trucks','French','Fruits & Veggies','Gastropubs','Gelato','German','Gluten-Free','Honey','Hong Kong Style Cafe','Hot Dogs','Hotel bar','Hungarian','Ice Cream & Frozen Yogurt','Imported Food','Indian','International Grocery','Italian','Japanese','Japanese Sweets','Juice Bars & Smoothies','Karaoke','Kombucha','Korean','Latin American','Live/Raw Food','Local Flavor','Lounges','Macarons','Mexican','Middle Eastern','Milkshake Bars','Minho','Olive Oil','Organic Stores','Pakistani','Palatine','Pasta Shops','Patisserie/Cake Shop','Persian/Iranian','Pita','Pizza','Poke','Pop-Up Restaurants','Popcorn Shops','Poutineries','Pretzels','Pub Food','Pubs','Restaurants','Rotisserie Chicken','Salad','Sandwiches','Seafood','Serbo Croatian','Shaved Ice','Shaved Snow','Smokehouse','Soba','Soup','Southern','Speakeasies','Specialty Food','Sports Bars','Steakhouses','Street Vendors','Sugar Shacks','Supper Clubs','Sushi Bars','Tacos','Taiwanese','Tapas Bars','Tapas/Small Plates','Tea Rooms','Tempura','Thai','Themed Cafes','Tiki Bars','Tonkatsu','Udon','Vegan','Vietnamese','Waffles','Whiskey Bars','Wine & Spirits','Wine Bars','Wraps']"
   ]
  },
  {
   "cell_type": "code",
   "execution_count": 5,
   "metadata": {},
   "outputs": [
    {
     "data": {
      "text/plain": [
       "\"\\nres_filter = (AZ_reviews['categories'].str.contains('There is absolutely no way this string is contained'))\\nfor i, word in enumerate(incl_list):\\n    clear_output(wait=True)\\n    print('{:2.2f}% \\t'.format(100*i/len(incl_list))+word)\\n    res_filter = (res_filter | AZ_reviews['categories'].str.contains(word))\\nres_filter.to_csv('res_filter.csv')\\n\""
      ]
     },
     "execution_count": 5,
     "metadata": {},
     "output_type": "execute_result"
    }
   ],
   "source": [
    "res_filter = pd.Series.from_csv('res_filter.csv')\n",
    "'''\n",
    "res_filter = (AZ_reviews['categories'].str.contains('There is absolutely no way this string is contained'))\n",
    "for i, word in enumerate(incl_list):\n",
    "    clear_output(wait=True)\n",
    "    print('{:2.2f}% \\t'.format(100*i/len(incl_list))+word)\n",
    "    res_filter = (res_filter | AZ_reviews['categories'].str.contains(word))\n",
    "res_filter.to_csv('res_filter.csv')\n",
    "'''"
   ]
  },
  {
   "cell_type": "code",
   "execution_count": 6,
   "metadata": {
    "scrolled": true
   },
   "outputs": [
    {
     "name": "stderr",
     "output_type": "stream",
     "text": [
      "/home/ci411/.conda/envs/py3.5/lib/python3.6/site-packages/ipykernel_launcher.py:3: UserWarning: Boolean Series key will be reindexed to match DataFrame index.\n",
      "  This is separate from the ipykernel package so we can avoid doing imports until\n"
     ]
    }
   ],
   "source": [
    "AZ_reviews_nona = AZ_reviews.dropna()\n",
    "\n",
    "AZ_reviews_res = AZ_reviews_nona[res_filter]\n",
    "AZ_reviews_biz = AZ_reviews_res.merge(businesses, on='business_id')"
   ]
  },
  {
   "cell_type": "code",
   "execution_count": 7,
   "metadata": {
    "collapsed": true
   },
   "outputs": [],
   "source": [
    "AZ_final  = AZ_reviews_biz[['date', 'business_id','user_id', 'name_x', 'cool', 'funny','useful','review_id', 'stars_x', 'categories_x','review_count', 'stars_y']]\n",
    "AZ_final = AZ_final.rename(index=str, columns={'name_x':'name', 'stars_x':'stars_review','stars_y':'stars_avg', 'categories_x':'categories'})"
   ]
  },
  {
   "cell_type": "code",
   "execution_count": 8,
   "metadata": {},
   "outputs": [
    {
     "data": {
      "text/html": [
       "<div>\n",
       "<style>\n",
       "    .dataframe thead tr:only-child th {\n",
       "        text-align: right;\n",
       "    }\n",
       "\n",
       "    .dataframe thead th {\n",
       "        text-align: left;\n",
       "    }\n",
       "\n",
       "    .dataframe tbody tr th {\n",
       "        vertical-align: top;\n",
       "    }\n",
       "</style>\n",
       "<table border=\"1\" class=\"dataframe\">\n",
       "  <thead>\n",
       "    <tr style=\"text-align: right;\">\n",
       "      <th></th>\n",
       "      <th>date</th>\n",
       "      <th>business_id</th>\n",
       "      <th>user_id</th>\n",
       "      <th>name</th>\n",
       "      <th>cool</th>\n",
       "      <th>funny</th>\n",
       "      <th>useful</th>\n",
       "      <th>review_id</th>\n",
       "      <th>stars_review</th>\n",
       "      <th>categories</th>\n",
       "      <th>review_count</th>\n",
       "      <th>stars_avg</th>\n",
       "    </tr>\n",
       "  </thead>\n",
       "  <tbody>\n",
       "    <tr>\n",
       "      <th>0</th>\n",
       "      <td>2013-01-19</td>\n",
       "      <td>45bWSZtniwPRiqlivpS8Og</td>\n",
       "      <td>kjfBvZlRzs1_7vdp7SZbeg</td>\n",
       "      <td>The Coffee Bean &amp; Tea Leaf</td>\n",
       "      <td>0</td>\n",
       "      <td>0</td>\n",
       "      <td>0</td>\n",
       "      <td>BrDYgJabSYhVDOXXYhrKdg</td>\n",
       "      <td>5</td>\n",
       "      <td>Coffee &amp; Tea, Food</td>\n",
       "      <td>63</td>\n",
       "      <td>4.0</td>\n",
       "    </tr>\n",
       "    <tr>\n",
       "      <th>1</th>\n",
       "      <td>2016-03-06</td>\n",
       "      <td>45bWSZtniwPRiqlivpS8Og</td>\n",
       "      <td>h8RmB4pdbXwVVfOQjg21zA</td>\n",
       "      <td>The Coffee Bean &amp; Tea Leaf</td>\n",
       "      <td>0</td>\n",
       "      <td>0</td>\n",
       "      <td>0</td>\n",
       "      <td>vjuNvMW3zO-DHnCVwP-OYQ</td>\n",
       "      <td>5</td>\n",
       "      <td>Coffee &amp; Tea, Food</td>\n",
       "      <td>63</td>\n",
       "      <td>4.0</td>\n",
       "    </tr>\n",
       "    <tr>\n",
       "      <th>2</th>\n",
       "      <td>2017-03-24</td>\n",
       "      <td>45bWSZtniwPRiqlivpS8Og</td>\n",
       "      <td>yGJjiS9zWkQ2VBrjxnnAXA</td>\n",
       "      <td>The Coffee Bean &amp; Tea Leaf</td>\n",
       "      <td>0</td>\n",
       "      <td>0</td>\n",
       "      <td>0</td>\n",
       "      <td>CJBrxwSfPLU3QgwlCpFAkQ</td>\n",
       "      <td>5</td>\n",
       "      <td>Coffee &amp; Tea, Food</td>\n",
       "      <td>63</td>\n",
       "      <td>4.0</td>\n",
       "    </tr>\n",
       "    <tr>\n",
       "      <th>3</th>\n",
       "      <td>2013-04-28</td>\n",
       "      <td>45bWSZtniwPRiqlivpS8Og</td>\n",
       "      <td>eI0gjxvpgfDnHcPT09qMcA</td>\n",
       "      <td>The Coffee Bean &amp; Tea Leaf</td>\n",
       "      <td>0</td>\n",
       "      <td>0</td>\n",
       "      <td>0</td>\n",
       "      <td>Pe1BtPgRQZj3uINA6e-ogA</td>\n",
       "      <td>3</td>\n",
       "      <td>Coffee &amp; Tea, Food</td>\n",
       "      <td>63</td>\n",
       "      <td>4.0</td>\n",
       "    </tr>\n",
       "    <tr>\n",
       "      <th>4</th>\n",
       "      <td>2015-03-31</td>\n",
       "      <td>45bWSZtniwPRiqlivpS8Og</td>\n",
       "      <td>GMRHCmYD3T4QUI1Ro3t8Zg</td>\n",
       "      <td>The Coffee Bean &amp; Tea Leaf</td>\n",
       "      <td>0</td>\n",
       "      <td>0</td>\n",
       "      <td>0</td>\n",
       "      <td>I768tdk9mOFEZ-3091cpHA</td>\n",
       "      <td>5</td>\n",
       "      <td>Coffee &amp; Tea, Food</td>\n",
       "      <td>63</td>\n",
       "      <td>4.0</td>\n",
       "    </tr>\n",
       "  </tbody>\n",
       "</table>\n",
       "</div>"
      ],
      "text/plain": [
       "         date             business_id                 user_id  \\\n",
       "0  2013-01-19  45bWSZtniwPRiqlivpS8Og  kjfBvZlRzs1_7vdp7SZbeg   \n",
       "1  2016-03-06  45bWSZtniwPRiqlivpS8Og  h8RmB4pdbXwVVfOQjg21zA   \n",
       "2  2017-03-24  45bWSZtniwPRiqlivpS8Og  yGJjiS9zWkQ2VBrjxnnAXA   \n",
       "3  2013-04-28  45bWSZtniwPRiqlivpS8Og  eI0gjxvpgfDnHcPT09qMcA   \n",
       "4  2015-03-31  45bWSZtniwPRiqlivpS8Og  GMRHCmYD3T4QUI1Ro3t8Zg   \n",
       "\n",
       "                         name  cool  funny  useful               review_id  \\\n",
       "0  The Coffee Bean & Tea Leaf     0      0       0  BrDYgJabSYhVDOXXYhrKdg   \n",
       "1  The Coffee Bean & Tea Leaf     0      0       0  vjuNvMW3zO-DHnCVwP-OYQ   \n",
       "2  The Coffee Bean & Tea Leaf     0      0       0  CJBrxwSfPLU3QgwlCpFAkQ   \n",
       "3  The Coffee Bean & Tea Leaf     0      0       0  Pe1BtPgRQZj3uINA6e-ogA   \n",
       "4  The Coffee Bean & Tea Leaf     0      0       0  I768tdk9mOFEZ-3091cpHA   \n",
       "\n",
       "   stars_review          categories  review_count  stars_avg  \n",
       "0             5  Coffee & Tea, Food            63        4.0  \n",
       "1             5  Coffee & Tea, Food            63        4.0  \n",
       "2             5  Coffee & Tea, Food            63        4.0  \n",
       "3             3  Coffee & Tea, Food            63        4.0  \n",
       "4             5  Coffee & Tea, Food            63        4.0  "
      ]
     },
     "execution_count": 8,
     "metadata": {},
     "output_type": "execute_result"
    }
   ],
   "source": [
    "AZ_final.head()"
   ]
  },
  {
   "cell_type": "code",
   "execution_count": 9,
   "metadata": {
    "collapsed": true
   },
   "outputs": [],
   "source": [
    "#copied functions from trendiness measure\n",
    "\n",
    "#convert a dataframe with 'date' element to be indexed along datetime objects\n",
    "def to_datetime(review_df):\n",
    "    return review_df.assign(datetime = pd.to_datetime(review_df['date'])).drop(labels=['date'], axis = 'columns').set_index('datetime').sort_index()\n",
    "\n",
    "#return a list of categories for some dataset (all rows)\n",
    "def get_categories(review_df):\n",
    "    listed_cats = review_df['categories'].str.split(', ').dropna()\n",
    "    flat_list = [item for sublist in listed_cats.values for item in sublist]\n",
    "    return flat_list\n",
    "\n",
    "#return a list of categories for a specific business (takes either a single row or full dataframe witha businessid)\n",
    "def get_categories_business(business_df, business_id = None):\n",
    "    if business_id!=None:\n",
    "        categories = business_df[business_df['business_id'] == business_id].iloc[0]['categories']\n",
    "    else:\n",
    "        categories = business_df['categories']\n",
    "    listed_cats = categories.split(', ')\n",
    "    return listed_cats\n",
    "\n",
    "#finds the N most popular categories for a given year and month\n",
    "def top_categories_date(reviews, year, month, N=15, stopwords = []):\n",
    "    if type(reviews.index[0]) == pd._libs.tslib.Timestamp:\n",
    "        review_dt = reviews\n",
    "    else:\n",
    "        review_dt = to_datetime(reviews)\n",
    "    time_filter = ((AZ_reviews_datetimed.index.year == year) & (AZ_reviews_datetimed.index.month == month))\n",
    "    time_reviews = review_dt[time_filter]\n",
    "    flat_list = get_categories(time_reviews)\n",
    "    counted_categories = Counter(flat_list)\n",
    "    sorted_categories = list(OrderedDict(values.most_common()).keys())\n",
    "    for word in stopwords:\n",
    "        if(word in sorted_categories):\n",
    "            sorted_categories.remove(word)\n",
    "    return sorted_categories[:N]\n",
    "\n",
    "#computes number of categories in commmon with a business and a given month\n",
    "def trendiness_measure(review_df, year, month, business_id, N = 15):\n",
    "    business_cats = get_categories_business(review_df, business_id = business_id)\n",
    "    trendiness_cats = top_categories_date(review_df, year, month, N=N)\n",
    "    return len(set(business_cats) & set(trendiness_cats))\n"
   ]
  },
  {
   "cell_type": "code",
   "execution_count": 10,
   "metadata": {
    "collapsed": true
   },
   "outputs": [],
   "source": [
    "AZ_reviews_dt = to_datetime(AZ_final)\n",
    "AZ_businesses_grouped = AZ_reviews_dt.groupby([AZ_reviews_dt['business_id'], AZ_reviews_dt.index.year.rename('year'), AZ_reviews_dt.index.month.rename('month')])"
   ]
  },
  {
   "cell_type": "code",
   "execution_count": 11,
   "metadata": {},
   "outputs": [
    {
     "data": {
      "image/png": "[encoded data removed]",
      "text/plain": [
       "<matplotlib.figure.Figure at 0x2ac70a75dfd0>"
      ]
     },
     "metadata": {},
     "output_type": "display_data"
    }
   ],
   "source": [
    "max_bin = 12\n",
    "rev_per_month = AZ_businesses_grouped['name'].count()\n",
    "rev_per_month.diff().hist(bins = np.linspace(-max_bin,max_bin,(max_bin*2)+1))\n",
    "plt.show()"
   ]
  },
  {
   "cell_type": "code",
   "execution_count": 12,
   "metadata": {},
   "outputs": [
    {
     "name": "stdout",
     "output_type": "stream",
     "text": [
      "0.029703254237774205\n"
     ]
    }
   ],
   "source": [
    "print(rev_per_month[rev_per_month.diff()>=5].shape[0]/rev_per_month.shape[0])\n",
    "\n",
    "growth_per_month = rev_per_month.diff().fillna(0)"
   ]
  },
  {
   "cell_type": "code",
   "execution_count": 13,
   "metadata": {
    "collapsed": true
   },
   "outputs": [],
   "source": [
    "def get_growth(bid, timestamp):\n",
    "    date = datetime.date(timestamp.year, timestamp.month, 1)\n",
    "    growth = growth_per_month[bid][date.year][date.month]\n",
    "    clear_output(wait=True)\n",
    "    display(timestamp)\n",
    "    return growth"
   ]
  },
  {
   "cell_type": "code",
   "execution_count": 14,
   "metadata": {
    "collapsed": true
   },
   "outputs": [],
   "source": [
    "#AZ_reviews_mg = AZ_reviews_dt.apply(lambda row: get_growth(row['business_id'], row.name), axis=1)\n",
    "AZ_reviews_mg = to_datetime(pd.read_csv('monthly_growth.csv')).drop(['Unnamed: 0'], axis=1)"
   ]
  },
  {
   "cell_type": "code",
   "execution_count": 15,
   "metadata": {},
   "outputs": [
    {
     "data": {
      "text/plain": [
       "datetime.date(2005, 2, 1)"
      ]
     },
     "metadata": {},
     "output_type": "display_data"
    },
    {
     "name": "stdout",
     "output_type": "stream",
     "text": [
      "2.55 ms ± 45.3 µs per loop (mean ± std. dev. of 7 runs, 100 loops each)\n"
     ]
    }
   ],
   "source": [
    "%%timeit\n",
    "get_growth('Rg4FHrDOD2DJeDY_khy-0w', datetime.date(2005,2,1))"
   ]
  },
  {
   "cell_type": "code",
   "execution_count": 16,
   "metadata": {
    "collapsed": true
   },
   "outputs": [],
   "source": [
    "top_categories=to_datetime(pd.read_csv('trends.csv').rename(index=str, columns={'Unnamed: 0':'date'}))\n"
   ]
  },
  {
   "cell_type": "code",
   "execution_count": 17,
   "metadata": {
    "collapsed": true
   },
   "outputs": [],
   "source": [
    "#restructured trendiness measure to work nicely in a loop using the top_categories dataframe\n",
    "def trendiness_measure_apply(categories, timestamp):\n",
    "    if type(categories)==float:\n",
    "        return 0\n",
    "    business_cats = categories.split(', ')\n",
    "    date = datetime.date(timestamp.year, timestamp.month, 1)\n",
    "    trendiness_cats = top_categories.loc[date]['top_categories'].split(', ')\n",
    "    result = len(set(business_cats) & set(trendiness_cats))\n",
    "    clear_output(wait=False)\n",
    "    print(timestamp)\n",
    "    return result\n",
    "#AZ_trendiness = AZ_reviews_dt.apply(lambda row: trendiness_measure_apply(row['categories'], row.name), axis=1)\n",
    "clear_output(wait=False)"
   ]
  },
  {
   "cell_type": "code",
   "execution_count": 18,
   "metadata": {},
   "outputs": [],
   "source": [
    "AZ_trendiness = to_datetime(pd.read_csv('trendiness_2.csv').drop('Unnamed: 0',1))\n",
    "#AZ_trendiness.to_csv('trendiness_2.csv')\n"
   ]
  },
  {
   "cell_type": "code",
   "execution_count": 19,
   "metadata": {
    "collapsed": true
   },
   "outputs": [],
   "source": [
    "AZ_reviews_dt['trendiness'] = AZ_trendiness\n",
    "AZ_reviews_dt['monthly_growth'] = AZ_reviews_mg\n"
   ]
  },
  {
   "cell_type": "code",
   "execution_count": 20,
   "metadata": {
    "collapsed": true
   },
   "outputs": [],
   "source": [
    "AZ_reviews_dt['high_growth'] = (AZ_reviews_dt['monthly_growth']>3)"
   ]
  },
  {
   "cell_type": "code",
   "execution_count": 21,
   "metadata": {
    "collapsed": true
   },
   "outputs": [],
   "source": [
    "from sklearn.model_selection import train_test_split\n",
    "X = AZ_reviews_dt.drop(['high_growth', 'monthly_growth', 'categories', 'business_id', 'user_id', 'name', 'review_id'],1)\n",
    "Y = AZ_reviews_dt['high_growth']\n",
    "Xtr, Xte, Ytr, Yte = train_test_split(X, Y, test_size=0.2, random_state=42, stratify=Y)"
   ]
  },
  {
   "cell_type": "code",
   "execution_count": 26,
   "metadata": {},
   "outputs": [
    {
     "name": "stdout",
     "output_type": "stream",
     "text": [
      "Training Decision Tree...\n",
      "Training Logistic Regression...\n"
     ]
    },
    {
     "name": "stderr",
     "output_type": "stream",
     "text": [
      "/home/ci411/.conda/envs/py3.5/lib/python3.6/site-packages/sklearn/linear_model/logistic.py:433: FutureWarning: Default solver will be changed to 'lbfgs' in 0.22. Specify a solver to silence this warning.\n",
      "  FutureWarning)\n"
     ]
    },
    {
     "name": "stdout",
     "output_type": "stream",
     "text": [
      "Training Bernolli Naive Bayes...\n",
      "0.776684758991\n",
      "0.816306098278\n",
      "0.820396042979\n",
      "0.820396042979\n"
     ]
    }
   ],
   "source": [
    "from sklearn.model_selection import cross_val_score\n",
    "from sklearn.tree import DecisionTreeClassifier\n",
    "from sklearn.linear_model import LogisticRegression\n",
    "from sklearn.svm import SVC\n",
    "from sklearn.naive_bayes import BernoulliNB\n",
    "\n",
    "print(\"Training Decision Tree...\")\n",
    "dtc = DecisionTreeClassifier()\n",
    "dtc.fit(Xtr, Ytr)\n",
    "\n",
    "print(\"Training Logistic Regression...\")\n",
    "lrc = LogisticRegression()\n",
    "lrc.fit(Xtr, Ytr)\n",
    "\n",
    "#print(\"Training SVM...\")\n",
    "#sv_c = SVC(probability=True)\n",
    "#sv_c.fit(Xtr, Ytr)\n",
    "\n",
    "print(\"Training Bernolli Naive Bayes...\")\n",
    "nbc = BernoulliNB()\n",
    "nbc.fit(Xtr, Ytr)\n",
    "\n",
    "print(dtc.score(Xte,Yte))\n",
    "print(lrc.score(Xte,Yte))\n",
    "#print(sv_c.score(Xte,Yte))\n",
    "print(nbc.score(Xte,Yte))\n",
    "print(1-Yte.sum()/Yte.count())"
   ]
  },
  {
   "cell_type": "code",
   "execution_count": 27,
   "metadata": {},
   "outputs": [
    {
     "name": "stdout",
     "output_type": "stream",
     "text": [
      "Index(['cool', 'funny', 'useful', 'stars_review', 'review_count', 'stars_avg',\n",
      "       'trendiness'],\n",
      "      dtype='object')\n",
      "[ 0.10323658  0.09652849  0.15183566  0.09694405  0.27715061  0.03961447\n",
      "  0.23469014]\n"
     ]
    }
   ],
   "source": [
    "print(Xtr.columns)\n",
    "print(dtc.feature_importances_)"
   ]
  },
  {
   "cell_type": "code",
   "execution_count": 25,
   "metadata": {},
   "outputs": [
    {
     "data": {
      "image/png": "[encoded data removed]",
      "text/plain": [
       "<matplotlib.figure.Figure at 0x2ac6acc59780>"
      ]
     },
     "metadata": {},
     "output_type": "display_data"
    }
   ],
   "source": [
    "from sklearn.metrics import roc_curve, auc\n",
    "\n",
    "models = [dtc, lrc, nbc]\n",
    "models_l = ['dtc', 'lrc', 'nbc']\n",
    "\n",
    "for i, model in enumerate(models):\n",
    "    predict = model.predict_proba(Xte)\n",
    "    fpr, tpr, thres = roc_curve(Yte, predict[:,1])\n",
    "    auc = skl.metrics.auc(fpr, tpr)\n",
    "\n",
    "    plt.plot(fpr, tpr, label=(models_l[i] + ' AUC: {:2.4f}'.format(auc)))\n",
    "\n",
    "plt.plot([[0,0],[1,1]], 'k--', label='', alpha=.75)\n",
    "plt.xlim([0.0, 1.0])\n",
    "plt.ylim([0.0, 1.0])\n",
    "plt.xlabel('False Positive Rate')\n",
    "plt.ylabel('True Positive Rate')\n",
    "plt.title('Receiver Operating Characteristic')\n",
    "plt.legend(loc=\"lower right\")\n",
    "plt.show()"
   ]
  }
 ],
 "metadata": {
  "kernelspec": {
   "display_name": "Python 3",
   "language": "python",
   "name": "python3"
  },
  "language_info": {
   "codemirror_mode": {
    "name": "ipython",
    "version": 3
   },
   "file_extension": ".py",
   "mimetype": "text/x-python",
   "name": "python",
   "nbconvert_exporter": "python",
   "pygments_lexer": "ipython3",
   "version": "3.6.2"
  }
 },
 "nbformat": 4,
 "nbformat_minor": 1
}
