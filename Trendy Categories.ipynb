{
 "cells": [
  {
   "cell_type": "code",
   "execution_count": 73,
   "metadata": {
    "collapsed": true
   },
   "outputs": [],
   "source": [
    "import numpy as np\n",
    "import pandas as pd\n",
    "import datetime\n",
    "from dateutil.rrule import rrule, MONTHLY\n",
    "import matplotlib.pyplot as plt\n",
    "from collections import Counter, OrderedDict\n",
    "from IPython.display import clear_output, display"
   ]
  },
  {
   "cell_type": "code",
   "execution_count": 2,
   "metadata": {
    "collapsed": true
   },
   "outputs": [],
   "source": [
    "#load ye olde data\n",
    "AZ_reviews = pd.read_csv('AZ_review.csv')"
   ]
  },
  {
   "cell_type": "code",
   "execution_count": 3,
   "metadata": {
    "collapsed": true
   },
   "outputs": [],
   "source": [
    "#assign datetime\n",
    "AZ_reviews_datetimed = AZ_reviews.assign(datetime = pd.to_datetime(AZ_reviews['date'])).drop(labels=['date'], axis = 'columns').set_index('datetime').sort_index()"
   ]
  },
  {
   "cell_type": "code",
   "execution_count": 4,
   "metadata": {
    "collapsed": true
   },
   "outputs": [],
   "source": [
    "#sort by month\n",
    "AZ_reviews_groupby_date = AZ_reviews_datetimed.groupby([AZ_reviews_datetimed.index.year.rename('year'), AZ_reviews_datetimed.index.month.rename('month')])"
   ]
  },
  {
   "cell_type": "code",
   "execution_count": 5,
   "metadata": {
    "collapsed": true
   },
   "outputs": [],
   "source": [
    "#filter out only results with a given year and month\n",
    "year = 2007\n",
    "month = 8\n",
    "time_filter = ((AZ_reviews_datetimed.index.year == year) & (AZ_reviews_datetimed.index.month == month))\n",
    "\n",
    "aug2016 = AZ_reviews_datetimed[time_filter]\n",
    "\n",
    "#split the strings in this new dataframe\n",
    "aug2016_list = aug2016['categories'].str.split(', ').dropna()"
   ]
  },
  {
   "cell_type": "code",
   "execution_count": 6,
   "metadata": {
    "collapsed": true
   },
   "outputs": [],
   "source": [
    "#flatten categories into one looooong list\n",
    "flat_list = [item for sublist in aug2016_list.values for item in sublist]"
   ]
  },
  {
   "cell_type": "code",
   "execution_count": 7,
   "metadata": {},
   "outputs": [
    {
     "data": {
      "text/plain": [
       "['Restaurants',\n",
       " 'Nightlife',\n",
       " 'Bars',\n",
       " 'Food',\n",
       " 'American (Traditional)',\n",
       " 'Sandwiches',\n",
       " 'American (New)',\n",
       " 'Shopping',\n",
       " 'Mexican',\n",
       " 'Pizza',\n",
       " 'Arts & Entertainment',\n",
       " 'Breakfast & Brunch',\n",
       " 'Event Planning & Services',\n",
       " 'Burgers',\n",
       " 'Italian']"
      ]
     },
     "execution_count": 7,
     "metadata": {},
     "output_type": "execute_result"
    }
   ],
   "source": [
    "#count elements in the list and take the 15 most popular elements\n",
    "values = Counter(flat_list)\n",
    "sorted_values = list(OrderedDict(values.most_common()).keys())\n",
    "sorted_values[:15]"
   ]
  },
  {
   "cell_type": "code",
   "execution_count": 8,
   "metadata": {},
   "outputs": [
    {
     "name": "stdout",
     "output_type": "stream",
     "text": [
      "['Restaurants', 'Bars', 'Food', 'American (Traditional)', 'Sandwiches', 'American (New)', 'Shopping', 'Mexican', 'Pizza', 'Arts & Entertainment', 'Breakfast & Brunch', 'Event Planning & Services', 'Burgers', 'Italian', 'Lounges']\n"
     ]
    }
   ],
   "source": [
    "#Testing removel of stopwords\n",
    "val = ['Restraunts','Nightlife']\n",
    "test_sorted_values = sorted_values\n",
    "for v in val:\n",
    "    if(v in test_sorted_values):\n",
    "        test_sorted_values.remove(v)\n",
    "print(test_sorted_values[:15])"
   ]
  },
  {
   "cell_type": "code",
   "execution_count": 24,
   "metadata": {
    "collapsed": true
   },
   "outputs": [],
   "source": [
    "#defining useful functions that we we're going to use\n",
    "\n",
    "#convert a dataframe with 'date' element to be indexed along datetime objects\n",
    "def to_datetime(review_df):\n",
    "    return review_df.assign(datetime = pd.to_datetime(AZ_reviews['date'])).drop(labels=['date'], axis = 'columns').set_index('datetime').sort_index()\n",
    "\n",
    "#return a list of categories for some dataset (all rows)\n",
    "def get_categories(review_df):\n",
    "    listed_cats = review_df['categories'].str.split(', ').dropna()\n",
    "    flat_list = [item for sublist in listed_cats.values for item in sublist]\n",
    "    return flat_list\n",
    "\n",
    "#return a list of categories for a specific business (takes either a single row or full dataframe witha businessid)\n",
    "def get_categories_business(business_df, business_id = None):\n",
    "    if business_id!=None:\n",
    "        categories = business_df[business_df['business_id'] == business_id].iloc[0]['categories']\n",
    "    else:\n",
    "        categories = business_df['categories']\n",
    "    listed_cats = categories.split(', ')\n",
    "    return listed_cats\n",
    "\n",
    "#finds the N most popular categories for a given year and month\n",
    "def top_categories_date(reviews, year, month, N=15, stopwords = []):\n",
    "    if type(reviews.index[0]) == pd._libs.tslib.Timestamp:\n",
    "        review_dt = reviews\n",
    "    else:\n",
    "        review_dt = to_datetime(reviews)\n",
    "    time_filter = ((AZ_reviews_datetimed.index.year == year) & (AZ_reviews_datetimed.index.month == month))\n",
    "    time_reviews = review_dt[time_filter]\n",
    "    flat_list = get_categories(time_reviews)\n",
    "    counted_categories = Counter(flat_list)\n",
    "    sorted_categories = list(OrderedDict(values.most_common()).keys())\n",
    "    for word in stopwords:\n",
    "        if(word in sorted_categories):\n",
    "            sorted_categories.remove(word)\n",
    "    return sorted_categories[:N]\n",
    "\n",
    "#computes number of categories in commmon with a business and a given month\n",
    "def trendiness_measure(review_df, year, month, business_id, N = 15):\n",
    "    business_cats = get_categories_business(review_df, business_id = business_id)\n",
    "    trendiness_cats = top_categories_date(review_df, year, month, N=N)\n",
    "    return len(set(business_cats) & set(trendiness_cats))\n",
    "\n"
   ]
  },
  {
   "cell_type": "code",
   "execution_count": 10,
   "metadata": {},
   "outputs": [
    {
     "name": "stdout",
     "output_type": "stream",
     "text": [
      "187 ms ± 1.06 ms per loop (mean ± std. dev. of 7 runs, 10 loops each)\n"
     ]
    }
   ],
   "source": [
    "%timeit top_categories_date(AZ_reviews_datetimed, 2014, 6)"
   ]
  },
  {
   "cell_type": "code",
   "execution_count": 11,
   "metadata": {
    "collapsed": true
   },
   "outputs": [],
   "source": [
    "months = []\n",
    "for key in AZ_reviews_groupby_date.groups.keys():\n",
    "    months.append(datetime.date(key[0],key[1], 1))"
   ]
  },
  {
   "cell_type": "code",
   "execution_count": 12,
   "metadata": {},
   "outputs": [
    {
     "name": "stdout",
     "output_type": "stream",
     "text": [
      "0.0000% complete\t2004-12-01\n",
      "0.6135% complete\t2005-02-01\n",
      "1.2270% complete\t2005-03-01\n",
      "1.8405% complete\t2005-04-01\n",
      "2.4540% complete\t2005-05-01\n",
      "3.0675% complete\t2005-06-01\n",
      "3.6810% complete\t2005-07-01\n",
      "4.2945% complete\t2005-08-01\n",
      "4.9080% complete\t2005-09-01\n",
      "5.5215% complete\t2005-10-01\n",
      "6.1350% complete\t2005-11-01\n",
      "6.7485% complete\t2005-12-01\n",
      "7.3620% complete\t2006-01-01\n",
      "7.9755% complete\t2006-02-01\n",
      "8.5890% complete\t2006-03-01\n",
      "9.2025% complete\t2006-04-01\n",
      "9.8160% complete\t2006-05-01\n",
      "10.4294% complete\t2006-06-01\n",
      "11.0429% complete\t2006-07-01\n",
      "11.6564% complete\t2006-08-01\n",
      "12.2699% complete\t2006-09-01\n",
      "12.8834% complete\t2006-10-01\n",
      "13.4969% complete\t2006-11-01\n",
      "14.1104% complete\t2006-12-01\n",
      "14.7239% complete\t2007-01-01\n",
      "15.3374% complete\t2007-02-01\n",
      "15.9509% complete\t2007-03-01\n",
      "16.5644% complete\t2007-04-01\n",
      "17.1779% complete\t2007-05-01\n",
      "17.7914% complete\t2007-06-01\n",
      "18.4049% complete\t2007-07-01\n",
      "19.0184% complete\t2007-08-01\n",
      "19.6319% complete\t2007-09-01\n",
      "20.2454% complete\t2007-10-01\n",
      "20.8589% complete\t2007-11-01\n",
      "21.4724% complete\t2007-12-01\n",
      "22.0859% complete\t2008-01-01\n",
      "22.6994% complete\t2008-02-01\n",
      "23.3129% complete\t2008-03-01\n",
      "23.9264% complete\t2008-04-01\n",
      "24.5399% complete\t2008-05-01\n",
      "25.1534% complete\t2008-06-01\n",
      "25.7669% complete\t2008-07-01\n",
      "26.3804% complete\t2008-08-01\n",
      "26.9939% complete\t2008-09-01\n",
      "27.6074% complete\t2008-10-01\n",
      "28.2209% complete\t2008-11-01\n",
      "28.8344% complete\t2008-12-01\n",
      "29.4479% complete\t2009-01-01\n",
      "30.0613% complete\t2009-02-01\n",
      "30.6748% complete\t2009-03-01\n",
      "31.2883% complete\t2009-04-01\n",
      "31.9018% complete\t2009-05-01\n",
      "32.5153% complete\t2009-06-01\n",
      "33.1288% complete\t2009-07-01\n",
      "33.7423% complete\t2009-08-01\n",
      "34.3558% complete\t2009-09-01\n",
      "34.9693% complete\t2009-10-01\n",
      "35.5828% complete\t2009-11-01\n",
      "36.1963% complete\t2009-12-01\n",
      "36.8098% complete\t2010-01-01\n",
      "37.4233% complete\t2010-02-01\n",
      "38.0368% complete\t2010-03-01\n",
      "38.6503% complete\t2010-04-01\n",
      "39.2638% complete\t2010-05-01\n",
      "39.8773% complete\t2010-06-01\n",
      "40.4908% complete\t2010-07-01\n",
      "41.1043% complete\t2010-08-01\n",
      "41.7178% complete\t2010-09-01\n",
      "42.3313% complete\t2010-10-01\n",
      "42.9448% complete\t2010-11-01\n",
      "43.5583% complete\t2010-12-01\n",
      "44.1718% complete\t2011-01-01\n",
      "44.7853% complete\t2011-02-01\n",
      "45.3988% complete\t2011-03-01\n",
      "46.0123% complete\t2011-04-01\n",
      "46.6258% complete\t2011-05-01\n",
      "47.2393% complete\t2011-06-01\n",
      "47.8528% complete\t2011-07-01\n",
      "48.4663% complete\t2011-08-01\n",
      "49.0798% complete\t2011-09-01\n",
      "49.6933% complete\t2011-10-01\n",
      "50.3067% complete\t2011-11-01\n",
      "50.9202% complete\t2011-12-01\n",
      "51.5337% complete\t2012-01-01\n",
      "52.1472% complete\t2012-02-01\n",
      "52.7607% complete\t2012-03-01\n",
      "53.3742% complete\t2012-04-01\n",
      "53.9877% complete\t2012-05-01\n",
      "54.6012% complete\t2012-06-01\n",
      "55.2147% complete\t2012-07-01\n",
      "55.8282% complete\t2012-08-01\n",
      "56.4417% complete\t2012-09-01\n",
      "57.0552% complete\t2012-10-01\n",
      "57.6687% complete\t2012-11-01\n",
      "58.2822% complete\t2012-12-01\n",
      "58.8957% complete\t2013-01-01\n",
      "59.5092% complete\t2013-02-01\n",
      "60.1227% complete\t2013-03-01\n",
      "60.7362% complete\t2013-04-01\n",
      "61.3497% complete\t2013-05-01\n",
      "61.9632% complete\t2013-06-01\n",
      "62.5767% complete\t2013-07-01\n",
      "63.1902% complete\t2013-08-01\n",
      "63.8037% complete\t2013-09-01\n",
      "64.4172% complete\t2013-10-01\n",
      "65.0307% complete\t2013-11-01\n",
      "65.6442% complete\t2013-12-01\n",
      "66.2577% complete\t2014-01-01\n",
      "66.8712% complete\t2014-02-01\n",
      "67.4847% complete\t2014-03-01\n",
      "68.0982% complete\t2014-04-01\n",
      "68.7117% complete\t2014-05-01\n",
      "69.3252% complete\t2014-06-01\n",
      "69.9387% complete\t2014-07-01\n",
      "70.5521% complete\t2014-08-01\n",
      "71.1656% complete\t2014-09-01\n",
      "71.7791% complete\t2014-10-01\n",
      "72.3926% complete\t2014-11-01\n",
      "73.0061% complete\t2014-12-01\n",
      "73.6196% complete\t2015-01-01\n",
      "74.2331% complete\t2015-02-01\n",
      "74.8466% complete\t2015-03-01\n",
      "75.4601% complete\t2015-04-01\n",
      "76.0736% complete\t2015-05-01\n",
      "76.6871% complete\t2015-06-01\n",
      "77.3006% complete\t2015-07-01\n",
      "77.9141% complete\t2015-08-01\n",
      "78.5276% complete\t2015-09-01\n",
      "79.1411% complete\t2015-10-01\n",
      "79.7546% complete\t2015-11-01\n",
      "80.3681% complete\t2015-12-01\n",
      "80.9816% complete\t2016-01-01\n",
      "81.5951% complete\t2016-02-01\n",
      "82.2086% complete\t2016-03-01\n",
      "82.8221% complete\t2016-04-01\n",
      "83.4356% complete\t2016-05-01\n",
      "84.0491% complete\t2016-06-01\n",
      "84.6626% complete\t2016-07-01\n",
      "85.2761% complete\t2016-08-01\n",
      "85.8896% complete\t2016-09-01\n",
      "86.5031% complete\t2016-10-01\n",
      "87.1166% complete\t2016-11-01\n",
      "87.7301% complete\t2016-12-01\n",
      "88.3436% complete\t2017-01-01\n",
      "88.9571% complete\t2017-02-01\n",
      "89.5706% complete\t2017-03-01\n",
      "90.1840% complete\t2017-04-01\n",
      "90.7975% complete\t2017-05-01\n",
      "91.4110% complete\t2017-06-01\n",
      "92.0245% complete\t2017-07-01\n",
      "92.6380% complete\t2017-08-01\n",
      "93.2515% complete\t2017-09-01\n",
      "93.8650% complete\t2017-10-01\n",
      "94.4785% complete\t2017-11-01\n",
      "95.0920% complete\t2017-12-01\n",
      "95.7055% complete\t2018-01-01\n",
      "96.3190% complete\t2018-02-01\n",
      "96.9325% complete\t2018-03-01\n",
      "97.5460% complete\t2018-04-01\n",
      "98.1595% complete\t2018-05-01\n",
      "98.7730% complete\t2018-06-01\n",
      "99.3865% complete\t2018-07-01\n"
     ]
    }
   ],
   "source": [
    "#compute the top 100 categories for each month\n",
    "top_categories = pd.DataFrame(index = months, columns = {\"top_categories\":''})\n",
    "for i, date in enumerate(months):\n",
    "    print('{:2.4f}% complete\\t'.format(i*100/len(months)) + str(date))\n",
    "    top_categories.loc[date]['top_categories'] = ', '.join(top_categories_date(AZ_reviews_datetimed, date.year, date.month, N=100))\n",
    "path = 'trends.csv'\n",
    "top_categories.to_csv(path)"
   ]
  },
  {
   "cell_type": "code",
   "execution_count": 25,
   "metadata": {},
   "outputs": [
    {
     "data": {
      "text/plain": [
       "1"
      ]
     },
     "execution_count": 25,
     "metadata": {},
     "output_type": "execute_result"
    }
   ],
   "source": [
    "bid = 'tQAGMU_RNemsAs13HquhjQ'\n",
    "bcats = get_categories_business(AZ_reviews, business_id = bid)\n",
    "tcats = top_categories_date(AZ_reviews_datetimed, 2015, 6, N=100)\n",
    "\n",
    "len(set(tcats)&set(bcats))"
   ]
  },
  {
   "cell_type": "code",
   "execution_count": 76,
   "metadata": {
    "collapsed": true
   },
   "outputs": [],
   "source": [
    "#restructured trendiness measure to work nicely in a loop using the top_categories dataframe\n",
    "def trendiness_measure_apply(categories, timestamp):\n",
    "    if type(categories)==float:\n",
    "        return 0\n",
    "    business_cats = categories.split(', ')\n",
    "    date = datetime.date(timestamp.year, timestamp.month, 1)\n",
    "    trendiness_cats = top_categories.loc[date]['top_categories'].split(', ')\n",
    "    result = len(set(business_cats) & set(trendiness_cats))\n",
    "    clear_output(wait=True)\n",
    "    display(timestamp)\n",
    "    return result"
   ]
  },
  {
   "cell_type": "code",
   "execution_count": 52,
   "metadata": {},
   "outputs": [
    {
     "name": "stdout",
     "output_type": "stream",
     "text": [
      "2004-12-01\n",
      "2004-12-01\n",
      "True\n",
      "top_categories    Restaurants, Nightlife, Bars, Food, American (...\n",
      "Name: 2004-12-01, dtype: object\n"
     ]
    }
   ],
   "source": [
    "time = AZ_reviews_datetimed.iloc[0].name\n",
    "date = datetime.date(time.year, time.month,1)\n",
    "print(date)\n",
    "print(top_categories.index[0])\n",
    "print(date == top_categories.index[0])\n",
    "print(top_categories.loc[date])"
   ]
  },
  {
   "cell_type": "code",
   "execution_count": null,
   "metadata": {
    "collapsed": true
   },
   "outputs": [],
   "source": [
    "#add trendiness measure to each review given business id and time\n",
    "AZ_trendiness = AZ_reviews_datetimed.apply(lambda row: trendiness_measure_apply(row['categories'], row.name), axis=1)"
   ]
  },
  {
   "cell_type": "code",
   "execution_count": null,
   "metadata": {
    "collapsed": true
   },
   "outputs": [],
   "source": [
    "#save results\n",
    "AZ_reviews_datetimed['trendiness'] = AZ_trendiness\n",
    "AZ_reviews_datetimed['trendiness'].describe()\n",
    "path_final = 'AZ_review_with_trendiness.csv'\n",
    "AZ_reviews_datetimed.to_csv(path_final)"
   ]
  },
  {
   "cell_type": "code",
   "execution_count": null,
   "metadata": {
    "collapsed": true
   },
   "outputs": [],
   "source": []
  }
 ],
 "metadata": {
  "kernelspec": {
   "display_name": "Python 3",
   "language": "python",
   "name": "python3"
  },
  "language_info": {
   "codemirror_mode": {
    "name": "ipython",
    "version": 3
   },
   "file_extension": ".py",
   "mimetype": "text/x-python",
   "name": "python",
   "nbconvert_exporter": "python",
   "pygments_lexer": "ipython3",
   "version": "3.6.2"
  }
 },
 "nbformat": 4,
 "nbformat_minor": 2
}
